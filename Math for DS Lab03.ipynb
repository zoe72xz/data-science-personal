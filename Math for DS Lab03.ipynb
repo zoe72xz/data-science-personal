{
  "cells": [
    {
      "cell_type": "markdown",
      "metadata": {
        "id": "view-in-github",
        "colab_type": "text"
      },
      "source": [
        "<a href=\"https://colab.research.google.com/github/zoe72xz/unc-f23-asm/blob/main/Math%20for%20DS%20Lab03.ipynb\" target=\"_parent\"><img src=\"https://colab.research.google.com/assets/colab-badge.svg\" alt=\"Open In Colab\"/></a>"
      ]
    },
    {
      "cell_type": "markdown",
      "metadata": {
        "id": "90MQsGQ6Jn2S"
      },
      "source": [
        "## **Lab 03: Basic Vector Operations**"
      ]
    },
    {
      "cell_type": "markdown",
      "metadata": {
        "id": "GZMwo06AVfDP"
      },
      "source": [
        "In this lab session, we will re-develop the statistics toolbox using the 3 basic vector operations: (1) vector addition, (2) scalar vector multiplication, and (3) dot product of two vectors."
      ]
    },
    {
      "cell_type": "markdown",
      "metadata": {
        "id": "TFKoeIPFWvkM"
      },
      "source": [
        "First, how to generate a vector of **random numbers.**\n",
        "Study the following document: https://docs.python.org/3/library/random.html\n",
        "\n",
        "Second, the three basic operations for vectors: **addition, scalar vector multiplication, and dot product.**\n",
        "https://numpy.org/doc/stable/reference/generated/numpy.dot.html\n",
        "\n",
        "https://numpy.org/doc/stable/reference/generated/numpy.add.html\n",
        "\n",
        "https://iq.opengenus.org/numpy-matrix-multiply-by-scalar/\n",
        "\n",
        "In this Lab session, **only use these three basic operations.**\n",
        "\n",
        "Special vectors\n",
        "\n",
        "https://numpy.org/doc/stable/reference/generated/numpy.ones.html\n",
        "\n",
        "https://numpy.org/doc/stable/reference/generated/numpy.zeros.html\n",
        "\n",
        "You are allowed to create special constant vectors.\n"
      ]
    },
    {
      "cell_type": "code",
      "execution_count": null,
      "metadata": {
        "id": "9-AneTzL-8dM"
      },
      "outputs": [],
      "source": [
        "#TODO: Import numpy\n",
        "import numpy as np\n",
        "\n",
        "#TODO: make random vectors using random.rand(size)\n",
        "rvec = np.random.rand(100)\n",
        "rvec0 = rvec = np.random.rand(100)"
      ]
    },
    {
      "cell_type": "markdown",
      "metadata": {
        "id": "hsUkcv9uV42P"
      },
      "source": [
        "1. Mean of a data set. We assume the data set is given by a row vector. In class, the mean of a given vector can be computed using the dot product of the given vector and a constant vector.\n",
        "\n",
        "Compare with the build-in functions\n",
        "\n",
        "https://numpy.org/doc/stable/reference/generated/numpy.average.html\n",
        "\n",
        "https://numpy.org/doc/stable/reference/generated/numpy.mean.html"
      ]
    },
    {
      "cell_type": "code",
      "execution_count": null,
      "metadata": {
        "id": "_r_t04OQuLdi",
        "outputId": "e5e27107-f345-460e-e656-d283eae78352"
      },
      "outputs": [
        {
          "name": "stdout",
          "output_type": "stream",
          "text": [
            "0.5321950603126546\n",
            "0.5321950603126545\n",
            "0.5321950603126545\n"
          ]
        }
      ],
      "source": [
        "#TODO: Create Function that computes the mean of a given vector\n",
        "def compute_mean(vector):\n",
        "    return sum(vector) / len(vector)\n",
        "\n",
        "#TODO: Using your new function, find the mean of your random vector\n",
        "rvec_mean = compute_mean(rvec)\n",
        "\n",
        "#TODO: Find the average of your random vector above\n",
        "#using the np.average() and/or np.mean()\n",
        "rvec_np_mean = np.mean(rvec)\n",
        "rvec_np_avg = np.average(rvec)\n",
        "\n",
        "#TODO: Print both values to compare\n",
        "print(rvec_mean)\n",
        "print(rvec_np_mean)\n",
        "print(rvec_np_avg)\n"
      ]
    },
    {
      "cell_type": "markdown",
      "metadata": {
        "id": "aeFB51mmuO8D"
      },
      "source": [
        "2. Deviation vector: We will assume that a deviation vector is given by subtracting the mean of x from each element of x."
      ]
    },
    {
      "cell_type": "code",
      "execution_count": null,
      "metadata": {
        "id": "eC8XXZH_EToj",
        "outputId": "35b0fc40-2a53-432a-dc90-cb6d1d8d23cf"
      },
      "outputs": [
        {
          "name": "stdout",
          "output_type": "stream",
          "text": [
            "original vector: [0.4780843  0.95387577 0.29833387 0.30697157 0.10946542 0.39929533\n",
            " 0.60862102 0.49093698 0.05502645 0.33323042 0.13488816 0.19785511\n",
            " 0.50517531 0.60804862 0.05276944 0.76511979 0.740349   0.34410515\n",
            " 0.37169983 0.02782972 0.66108357 0.19975721 0.95566631 0.23450673\n",
            " 0.4082541  0.91333481 0.9014275  0.83319171 0.34594841 0.43403653\n",
            " 0.03751179 0.32459051 0.1956241  0.90781117 0.99106116 0.80554572\n",
            " 0.87027444 0.85927026 0.57462071 0.95560513 0.90931012 0.94312802\n",
            " 0.13941767 0.02627031 0.87098096 0.84781914 0.34302767 0.89410317\n",
            " 0.46092925 0.45234523 0.75889352 0.97794723 0.9205673  0.66221271\n",
            " 0.81950215 0.83600008 0.22144262 0.52139202 0.73025194 0.04700427\n",
            " 0.27303741 0.1373877  0.40777367 0.78898013 0.16629698 0.23857687\n",
            " 0.59649558 0.60891098 0.64251236 0.47142493 0.39699312 0.02479866\n",
            " 0.51274773 0.36738515 0.68840184 0.78335442 0.86919374 0.62870069\n",
            " 0.65169788 0.31111443 0.51244862 0.54270451 0.97245213 0.42978515\n",
            " 0.79663392 0.41099094 0.26457447 0.47317814 0.56010057 0.15035401\n",
            " 0.63971796 0.43138247 0.57840726 0.35730257 0.70180001 0.46291424\n",
            " 0.94250459 0.99334806 0.66607991 0.19369369]\n",
            "deviation vector: [-0.05411076  0.42168071 -0.2338612  -0.22522349 -0.42272964 -0.13289973\n",
            "  0.07642596 -0.04125808 -0.47716861 -0.19896464 -0.3973069  -0.33433996\n",
            " -0.02701975  0.07585356 -0.47942562  0.23292473  0.20815394 -0.18808991\n",
            " -0.16049523 -0.50436534  0.12888851 -0.33243785  0.42347125 -0.29768833\n",
            " -0.12394096  0.38113975  0.36923244  0.30099665 -0.18624665 -0.09815853\n",
            " -0.49468327 -0.20760455 -0.33657097  0.37561611  0.4588661   0.27335066\n",
            "  0.33807938  0.3270752   0.04242565  0.42341007  0.37711506  0.41093296\n",
            " -0.39277739 -0.50592475  0.3387859   0.31562408 -0.18916739  0.36190811\n",
            " -0.07126581 -0.07984983  0.22669846  0.44575217  0.38837224  0.13001765\n",
            "  0.28730709  0.30380502 -0.31075244 -0.01080304  0.19805688 -0.48519079\n",
            " -0.25915765 -0.39480736 -0.12442139  0.25678507 -0.36589808 -0.29361819\n",
            "  0.06430052  0.07671592  0.1103173  -0.06077013 -0.13520194 -0.5073964\n",
            " -0.01944733 -0.16480991  0.15620678  0.25115936  0.33699868  0.09650563\n",
            "  0.11950282 -0.22108063 -0.01974644  0.01050945  0.44025707 -0.10240991\n",
            "  0.26443886 -0.12120412 -0.26762059 -0.05901692  0.02790551 -0.38184105\n",
            "  0.1075229  -0.10081259  0.0462122  -0.17489249  0.16960495 -0.06928082\n",
            "  0.41030953  0.461153    0.13388485 -0.33850137]\n"
          ]
        }
      ],
      "source": [
        "#TODO: Create a function that finds the deviation vector\n",
        "def deviation_vector(vector):\n",
        "    mean_val = np.mean(vector)\n",
        "    return vector - mean_val\n",
        "\n",
        "#TODO: Using your new function, find the deviation vector of one of your random vectors\n",
        "dev_vec = deviation_vector(rvec)\n",
        "\n",
        "#TODO: Print your random vector\n",
        "print(f\"original vector: {rvec}\")\n",
        "print(f\"deviation vector: {dev_vec}\")"
      ]
    },
    {
      "cell_type": "markdown",
      "metadata": {
        "id": "LGn_iXqrd2Dy"
      },
      "source": [
        "3. Variance: We will assume that the variance of a given vector is given by each entry of the vector subtracted by the mean, then the whole value squared.\n",
        "\n",
        "Compare with built-in function:\n",
        "\n",
        "https://numpy.org/doc/stable/reference/generated/numpy.var.html\n"
      ]
    },
    {
      "cell_type": "code",
      "execution_count": null,
      "metadata": {
        "id": "xaN8fb0nHFwq",
        "outputId": "460f0dcb-522b-456b-b06f-b12148f2e195"
      },
      "outputs": [
        {
          "name": "stdout",
          "output_type": "stream",
          "text": [
            "variance using custom function: 0.08050971850764599\n",
            "variance using numpy: 0.08050971850764599\n"
          ]
        }
      ],
      "source": [
        "#TODO: Create a function that finds the variance of a given vector\n",
        "def compute_var(vector):\n",
        "    dev_vec = vector - compute_mean(vector)\n",
        "    squared_dev = dev_vec**2\n",
        "    return compute_mean(squared_dev)\n",
        "\n",
        "#TODO: Using your new function, find the variance of one of your random vectors\n",
        "rvec_var = compute_var(rvec)\n",
        "\n",
        "#TODO: Find the variance of your random vector above\n",
        "#using the np.var()\n",
        "rvec_np_var = np.var(rvec)\n",
        "\n",
        "#TODO: Print both values to compare\n",
        "print(f\"variance using custom function: {rvec_var}\")\n",
        "print(f\"variance using numpy: {rvec_np_var}\")"
      ]
    },
    {
      "cell_type": "markdown",
      "metadata": {
        "id": "cdjyhd06f5YX"
      },
      "source": [
        "4. Standard deviation: We will assume that the standard deviation of a vector is the square root of the variance\n",
        "\n",
        "Compare with built-in function:\n",
        "\n",
        "https://numpy.org/doc/stable/reference/generated/numpy.std.html"
      ]
    },
    {
      "cell_type": "code",
      "execution_count": null,
      "metadata": {
        "id": "Xf1QpRISHzwJ",
        "outputId": "f9c8f4bf-f84f-4278-f439-ed7cd8f6399f"
      },
      "outputs": [
        {
          "name": "stdout",
          "output_type": "stream",
          "text": [
            "standard deviation using custom function: 0.28374234528467196\n",
            "standard deviation using numpy np.std: 0.28374234528467196\n",
            "standard deviation using numpy np.var and np.sqrt: 0.28374234528467196\n"
          ]
        }
      ],
      "source": [
        "#TODO: Create a function that finds the standard deviation of a given vector\n",
        "def compute_std(vector):\n",
        "    variance = compute_var(vector)\n",
        "    return variance ** 0.5\n",
        "\n",
        "#TODO: Using your new function, find the standard deviation of one of your random vectors\n",
        "rvec_std = compute_std(rvec)\n",
        "\n",
        "#TODO: Find the standard deviation of your random vector above\n",
        "#using the np.var()\n",
        "rvec_np_std1 = np.std(rvec)\n",
        "rvec_np_std2 = np.sqrt(np.var(rvec))\n",
        "\n",
        "#TODO: Print both values to compare\n",
        "print(f\"standard deviation using custom function: {rvec_std}\")\n",
        "print(f\"standard deviation using numpy np.std: {rvec_np_std1}\")\n",
        "print(f\"standard deviation using numpy np.var and np.sqrt: {rvec_np_std2}\")"
      ]
    },
    {
      "cell_type": "markdown",
      "metadata": {
        "id": "61bO6p66gMZP"
      },
      "source": [
        "5. Correlation of two vectors: We will assume that we define that the correlation of two vectors can be found by dividing the sum of the product of the differences between each pair of corresponding values by square roots of the sum of squared differences between each value.\n",
        "\n",
        "Compare with built-in functions:\n",
        "\n",
        "https://numpy.org/doc/stable/reference/generated/numpy.corrcoef.html\n"
      ]
    },
    {
      "cell_type": "code",
      "execution_count": null,
      "metadata": {
        "id": "O9RMukMUJNxM",
        "outputId": "bea66d74-e0fe-4962-8764-6c4347ba57b4"
      },
      "outputs": [
        {
          "name": "stdout",
          "output_type": "stream",
          "text": [
            "correlation using custom function: 1.0\n",
            "correlation using numpy: 0.9999999999999998\n"
          ]
        }
      ],
      "source": [
        "#TODO: Create a function that finds the correlation of two given vectors\n",
        "def compute_corr(vec1, vec2):\n",
        "    mean_vec1 = np.mean(vec1)\n",
        "    mean_vec2 = np.mean(vec2)\n",
        "\n",
        "    n = sum([(vec1[i] - mean_vec1) * (vec2[i] - mean_vec2) for i in range(len(vec1))])\n",
        "    d = (sum([(x - mean_vec1)**2 for x in vec1]) * sum([(y - mean_vec2)**2 for y in vec2]))**0.5\n",
        "\n",
        "    return n/d\n",
        "\n",
        "#TODO: Using your new function, find the correlation of both of your random vectors\n",
        "rvec_corr = compute_corr(rvec, rvec0)\n",
        "\n",
        "#TODO: Find the correlation of both of your random vectors above\n",
        "#using the np.corrcoef()\n",
        "rvec_np_corr = np.corrcoef(rvec, rvec0)[0, 1]\n",
        "\n",
        "#TODO: Print both values to compare\n",
        "print(f\"correlation using custom function: {rvec_corr}\")\n",
        "print(f\"correlation using numpy: {rvec_np_corr}\")"
      ]
    },
    {
      "cell_type": "code",
      "execution_count": null,
      "metadata": {
        "id": "RyhCpaTnfkWA"
      },
      "outputs": [],
      "source": []
    }
  ],
  "metadata": {
    "colab": {
      "provenance": [],
      "include_colab_link": true
    },
    "kernelspec": {
      "display_name": "Python 3 (ipykernel)",
      "language": "python",
      "name": "python3"
    },
    "language_info": {
      "codemirror_mode": {
        "name": "ipython",
        "version": 3
      },
      "file_extension": ".py",
      "mimetype": "text/x-python",
      "name": "python",
      "nbconvert_exporter": "python",
      "pygments_lexer": "ipython3",
      "version": "3.10.9"
    }
  },
  "nbformat": 4,
  "nbformat_minor": 0
}